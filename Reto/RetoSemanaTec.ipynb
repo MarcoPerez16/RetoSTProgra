{
 "cells": [
  {
   "cell_type": "code",
   "execution_count": 4,
   "id": "d9ea61fa",
   "metadata": {},
   "outputs": [],
   "source": [
    "# Importamos librerías necesarías para la solución\n",
    "import pandas as pd\n",
    "import matplotlib.pyplot as plt\n",
    "import seaborn as sns\n",
    "from collections import Counter\n",
    "\n",
    "# Asignamos el documento csv a un dataframe llamadado 'datos'\n",
    "datos = pd.read_csv(\"covid19_tweets.csv\")"
   ]
  },
  {
   "cell_type": "code",
   "execution_count": 8,
   "id": "7e76df0e",
   "metadata": {},
   "outputs": [
    {
     "data": {
      "text/html": [
       "<div>\n",
       "<style scoped>\n",
       "    .dataframe tbody tr th:only-of-type {\n",
       "        vertical-align: middle;\n",
       "    }\n",
       "\n",
       "    .dataframe tbody tr th {\n",
       "        vertical-align: top;\n",
       "    }\n",
       "\n",
       "    .dataframe thead th {\n",
       "        text-align: right;\n",
       "    }\n",
       "</style>\n",
       "<table border=\"1\" class=\"dataframe\">\n",
       "  <thead>\n",
       "    <tr style=\"text-align: right;\">\n",
       "      <th></th>\n",
       "      <th>user_followers</th>\n",
       "      <th>user_friends</th>\n",
       "      <th>user_favourites</th>\n",
       "    </tr>\n",
       "  </thead>\n",
       "  <tbody>\n",
       "    <tr>\n",
       "      <th>count</th>\n",
       "      <td>7.443600e+04</td>\n",
       "      <td>74436.000000</td>\n",
       "      <td>7.443600e+04</td>\n",
       "    </tr>\n",
       "    <tr>\n",
       "      <th>mean</th>\n",
       "      <td>1.059513e+05</td>\n",
       "      <td>2154.721170</td>\n",
       "      <td>1.529747e+04</td>\n",
       "    </tr>\n",
       "    <tr>\n",
       "      <th>std</th>\n",
       "      <td>8.222900e+05</td>\n",
       "      <td>9365.587474</td>\n",
       "      <td>4.668971e+04</td>\n",
       "    </tr>\n",
       "    <tr>\n",
       "      <th>min</th>\n",
       "      <td>0.000000e+00</td>\n",
       "      <td>0.000000</td>\n",
       "      <td>0.000000e+00</td>\n",
       "    </tr>\n",
       "    <tr>\n",
       "      <th>25%</th>\n",
       "      <td>1.660000e+02</td>\n",
       "      <td>153.000000</td>\n",
       "      <td>2.200000e+02</td>\n",
       "    </tr>\n",
       "    <tr>\n",
       "      <th>50%</th>\n",
       "      <td>9.600000e+02</td>\n",
       "      <td>552.000000</td>\n",
       "      <td>1.927000e+03</td>\n",
       "    </tr>\n",
       "    <tr>\n",
       "      <th>75%</th>\n",
       "      <td>5.148000e+03</td>\n",
       "      <td>1780.250000</td>\n",
       "      <td>1.014800e+04</td>\n",
       "    </tr>\n",
       "    <tr>\n",
       "      <th>max</th>\n",
       "      <td>1.389284e+07</td>\n",
       "      <td>497363.000000</td>\n",
       "      <td>2.047197e+06</td>\n",
       "    </tr>\n",
       "  </tbody>\n",
       "</table>\n",
       "</div>"
      ],
      "text/plain": [
       "       user_followers   user_friends  user_favourites\n",
       "count    7.443600e+04   74436.000000     7.443600e+04\n",
       "mean     1.059513e+05    2154.721170     1.529747e+04\n",
       "std      8.222900e+05    9365.587474     4.668971e+04\n",
       "min      0.000000e+00       0.000000     0.000000e+00\n",
       "25%      1.660000e+02     153.000000     2.200000e+02\n",
       "50%      9.600000e+02     552.000000     1.927000e+03\n",
       "75%      5.148000e+03    1780.250000     1.014800e+04\n",
       "max      1.389284e+07  497363.000000     2.047197e+06"
      ]
     },
     "execution_count": 8,
     "metadata": {},
     "output_type": "execute_result"
    }
   ],
   "source": [
    "# Vemos la estadística básica de 'datos'\n",
    "datos.describe()"
   ]
  },
  {
   "cell_type": "code",
   "execution_count": 12,
   "id": "73bd4268",
   "metadata": {},
   "outputs": [
    {
     "data": {
      "text/html": [
       "<div>\n",
       "<style scoped>\n",
       "    .dataframe tbody tr th:only-of-type {\n",
       "        vertical-align: middle;\n",
       "    }\n",
       "\n",
       "    .dataframe tbody tr th {\n",
       "        vertical-align: top;\n",
       "    }\n",
       "\n",
       "    .dataframe thead th {\n",
       "        text-align: right;\n",
       "    }\n",
       "</style>\n",
       "<table border=\"1\" class=\"dataframe\">\n",
       "  <thead>\n",
       "    <tr style=\"text-align: right;\">\n",
       "      <th></th>\n",
       "      <th>user_name</th>\n",
       "      <th>user_followers</th>\n",
       "    </tr>\n",
       "  </thead>\n",
       "  <tbody>\n",
       "    <tr>\n",
       "      <th>235</th>\n",
       "      <td>CGTN</td>\n",
       "      <td>13892795</td>\n",
       "    </tr>\n",
       "    <tr>\n",
       "      <th>785</th>\n",
       "      <td>The Times Of India</td>\n",
       "      <td>12978547</td>\n",
       "    </tr>\n",
       "    <tr>\n",
       "      <th>1161</th>\n",
       "      <td>NDTV</td>\n",
       "      <td>13417047</td>\n",
       "    </tr>\n",
       "    <tr>\n",
       "      <th>1354</th>\n",
       "      <td>NDTV</td>\n",
       "      <td>13417047</td>\n",
       "    </tr>\n",
       "    <tr>\n",
       "      <th>2837</th>\n",
       "      <td>CGTN</td>\n",
       "      <td>13892793</td>\n",
       "    </tr>\n",
       "  </tbody>\n",
       "</table>\n",
       "</div>"
      ],
      "text/plain": [
       "               user_name  user_followers\n",
       "235                 CGTN        13892795\n",
       "785   The Times Of India        12978547\n",
       "1161                NDTV        13417047\n",
       "1354                NDTV        13417047\n",
       "2837                CGTN        13892793"
      ]
     },
     "execution_count": 12,
     "metadata": {},
     "output_type": "execute_result"
    }
   ],
   "source": [
    "# Veamos los followers\n",
    "# El usuario con mayor followers tiene 13, 892, 795 followers\n",
    "# Creamos otro Dataframe de usuarios con al menos 11, 000, 000 seguidores\n",
    "# lo organizamos de mayor a menor e imprimimos\n",
    "\n",
    "followers_datos = datos[datos['user_followers'] > 11000000]\n",
    "followers_datos.sort_values(by = ['user_followers'], ascending = False)\n",
    "followers_datos[['user_name','user_followers']].head()"
   ]
  },
  {
   "cell_type": "code",
   "execution_count": 25,
   "id": "e6b66585",
   "metadata": {},
   "outputs": [
    {
     "name": "stdout",
     "output_type": "stream",
     "text": [
      "China Xinhua News:      49\n",
      "The Times Of India:      42\n",
      "NDTV:      40\n",
      "CGTN:      18\n",
      "United Nations:       7\n"
     ]
    }
   ],
   "source": [
    "# Obtenemos total de tweets de los usuarios con más followers\n",
    "# Con la ayuda de Counter() y el dataframe followers_datos\n",
    "\n",
    "cnt = Counter(followers_datos.user_name)\n",
    "tot_tweets = []\n",
    "\n",
    "for u, count in cnt.most_common(5):\n",
    "    print ('%s: %7d' % (u, count))\n",
    "    for val in range(count + 1):\n",
    "        tot_tweets.append(u)"
   ]
  },
  {
   "cell_type": "code",
   "execution_count": 21,
   "id": "d8e3056c",
   "metadata": {},
   "outputs": [
    {
     "data": {
      "image/png": "[encoded data removed]",
      "text/plain": [
       "<Figure size 432x288 with 1 Axes>"
      ]
     },
     "metadata": {
      "needs_background": "light"
     },
     "output_type": "display_data"
    }
   ],
   "source": [
    "# Creamos un histograma donde se verá el total de tweets de los 5 usuarios\n",
    "# con más followers\n",
    "plt.hist(tot_tweets, histtype = 'bar', color = 'green')\n",
    "plt.title('Total de Tweets de los 5 usuarios más seguidos\\n', fontweight =\"bold\")\n",
    "plt.ylabel('Total Tweets')\n",
    "plt.show()"
   ]
  },
  {
   "cell_type": "code",
   "execution_count": 26,
   "id": "9bf2ab12",
   "metadata": {},
   "outputs": [
    {
     "name": "stdout",
     "output_type": "stream",
     "text": [
      "['COVID19']:      86\n",
      "nan:      19\n",
      "['BigFight', 'COVID19']:       7\n",
      "['BigFight']:       7\n",
      "['APEC', 'COVID19']:       2\n"
     ]
    }
   ],
   "source": [
    "# Counter para la sub dataframe que muestra los hashtags más comunes\n",
    "cnt2 = Counter(followers_datos.hashtags)\n",
    "tot_hashtags = []\n",
    "\n",
    "for ht, count in cnt2.most_common(5):\n",
    "    print ('%s: %7d' % (ht, count))\n",
    "    for val in range(count + 1):\n",
    "        tot_hashtags.append(ht)"
   ]
  },
  {
   "cell_type": "code",
   "execution_count": 27,
   "id": "5c9eb1b5",
   "metadata": {},
   "outputs": [
    {
     "data": {
      "image/png": "[encoded data removed]",
      "text/plain": [
       "<Figure size 432x288 with 1 Axes>"
      ]
     },
     "metadata": {
      "needs_background": "light"
     },
     "output_type": "display_data"
    }
   ],
   "source": [
    "plt.hist(tot_hashtags, histtype ='bar', color = 'blue')\n",
    "plt.title('Los 5 hashtags más usados por los usuarios con más followers \\n', fontweight =\"bold\")\n",
    "plt.ylabel('Total de veces usado')\n",
    "plt.show()"
   ]
  },
  {
   "cell_type": "code",
   "execution_count": 29,
   "id": "8831e959",
   "metadata": {},
   "outputs": [
    {
     "data": {
      "text/html": [
       "<div>\n",
       "<style scoped>\n",
       "    .dataframe tbody tr th:only-of-type {\n",
       "        vertical-align: middle;\n",
       "    }\n",
       "\n",
       "    .dataframe tbody tr th {\n",
       "        vertical-align: top;\n",
       "    }\n",
       "\n",
       "    .dataframe thead th {\n",
       "        text-align: right;\n",
       "    }\n",
       "</style>\n",
       "<table border=\"1\" class=\"dataframe\">\n",
       "  <thead>\n",
       "    <tr style=\"text-align: right;\">\n",
       "      <th></th>\n",
       "      <th>user_name</th>\n",
       "      <th>user_favourites</th>\n",
       "    </tr>\n",
       "  </thead>\n",
       "  <tbody>\n",
       "    <tr>\n",
       "      <th>14504</th>\n",
       "      <td>Chelsea Anderson.♥️</td>\n",
       "      <td>2047197</td>\n",
       "    </tr>\n",
       "    <tr>\n",
       "      <th>18269</th>\n",
       "      <td>paolo ignazio marong</td>\n",
       "      <td>1151965</td>\n",
       "    </tr>\n",
       "    <tr>\n",
       "      <th>18306</th>\n",
       "      <td>paolo ignazio marong</td>\n",
       "      <td>1151965</td>\n",
       "    </tr>\n",
       "    <tr>\n",
       "      <th>18744</th>\n",
       "      <td>paolo ignazio marong</td>\n",
       "      <td>1151965</td>\n",
       "    </tr>\n",
       "    <tr>\n",
       "      <th>18865</th>\n",
       "      <td>paolo ignazio marong</td>\n",
       "      <td>1151965</td>\n",
       "    </tr>\n",
       "  </tbody>\n",
       "</table>\n",
       "</div>"
      ],
      "text/plain": [
       "                  user_name  user_favourites\n",
       "14504   Chelsea Anderson.♥️          2047197\n",
       "18269  paolo ignazio marong          1151965\n",
       "18306  paolo ignazio marong          1151965\n",
       "18744  paolo ignazio marong          1151965\n",
       "18865  paolo ignazio marong          1151965"
      ]
     },
     "execution_count": 29,
     "metadata": {},
     "output_type": "execute_result"
    }
   ],
   "source": [
    "# Obtenemos los tweets con más likes\n",
    "# El tweet con más likes tiene 2,047,197\n",
    "# Obtenemos dataframe que tengan likes mayores a 1, 100, 000\n",
    "\n",
    "likes_datos = datos[datos['user_favourites'] > 1100000]\n",
    "likes_datos.sort_values(by = ['user_favourites'], ascending = False)\n",
    "likes_datos[['user_name','user_favourites']].head()"
   ]
  },
  {
   "cell_type": "code",
   "execution_count": 30,
   "id": "e8cb1d2f",
   "metadata": {},
   "outputs": [
    {
     "name": "stdout",
     "output_type": "stream",
     "text": [
      "paolo ignazio marong:      13\n",
      "Chelsea Anderson.♥️:       1\n"
     ]
    }
   ],
   "source": [
    "cnt3 = Counter(likes_datos.user_name)\n",
    "tot3 = []\n",
    "\n",
    "for u, count in cnt3.most_common(5):\n",
    "    print ('%s: %7d' % (u, count))\n",
    "    for val in range(count + 1):\n",
    "        tot3.append(u)"
   ]
  },
  {
   "cell_type": "code",
   "execution_count": 31,
   "id": "fe07978b",
   "metadata": {},
   "outputs": [
    {
     "data": {
      "image/png": "[encoded data removed]",
      "text/plain": [
       "<Figure size 432x288 with 1 Axes>"
      ]
     },
     "metadata": {
      "needs_background": "light"
     },
     "output_type": "display_data"
    }
   ],
   "source": [
    "plt.hist(tot3, histtype ='bar', color = 'red')\n",
    "plt.title('Gráfica de Tweets con mayor número de likes\\n', fontweight =\"bold\")\n",
    "plt.ylabel('Total de tweets')\n",
    "plt.show()"
   ]
  },
  {
   "cell_type": "code",
   "execution_count": 32,
   "id": "3bfec22c",
   "metadata": {},
   "outputs": [
    {
     "data": {
      "text/html": [
       "<div>\n",
       "<style scoped>\n",
       "    .dataframe tbody tr th:only-of-type {\n",
       "        vertical-align: middle;\n",
       "    }\n",
       "\n",
       "    .dataframe tbody tr th {\n",
       "        vertical-align: top;\n",
       "    }\n",
       "\n",
       "    .dataframe thead th {\n",
       "        text-align: right;\n",
       "    }\n",
       "</style>\n",
       "<table border=\"1\" class=\"dataframe\">\n",
       "  <thead>\n",
       "    <tr style=\"text-align: right;\">\n",
       "      <th></th>\n",
       "      <th>user_name</th>\n",
       "      <th>user_favourites</th>\n",
       "      <th>date</th>\n",
       "    </tr>\n",
       "  </thead>\n",
       "  <tbody>\n",
       "    <tr>\n",
       "      <th>14504</th>\n",
       "      <td>Chelsea Anderson.♥️</td>\n",
       "      <td>2047197</td>\n",
       "      <td>2020-07-25 01:44:18</td>\n",
       "    </tr>\n",
       "    <tr>\n",
       "      <th>18269</th>\n",
       "      <td>paolo ignazio marong</td>\n",
       "      <td>1151965</td>\n",
       "      <td>2020-07-26 08:35:28</td>\n",
       "    </tr>\n",
       "    <tr>\n",
       "      <th>18306</th>\n",
       "      <td>paolo ignazio marong</td>\n",
       "      <td>1151965</td>\n",
       "      <td>2020-07-26 08:33:39</td>\n",
       "    </tr>\n",
       "    <tr>\n",
       "      <th>18744</th>\n",
       "      <td>paolo ignazio marong</td>\n",
       "      <td>1151965</td>\n",
       "      <td>2020-07-26 08:11:16</td>\n",
       "    </tr>\n",
       "    <tr>\n",
       "      <th>18865</th>\n",
       "      <td>paolo ignazio marong</td>\n",
       "      <td>1151965</td>\n",
       "      <td>2020-07-26 08:04:24</td>\n",
       "    </tr>\n",
       "  </tbody>\n",
       "</table>\n",
       "</div>"
      ],
      "text/plain": [
       "                  user_name  user_favourites                 date\n",
       "14504   Chelsea Anderson.♥️          2047197  2020-07-25 01:44:18\n",
       "18269  paolo ignazio marong          1151965  2020-07-26 08:35:28\n",
       "18306  paolo ignazio marong          1151965  2020-07-26 08:33:39\n",
       "18744  paolo ignazio marong          1151965  2020-07-26 08:11:16\n",
       "18865  paolo ignazio marong          1151965  2020-07-26 08:04:24"
      ]
     },
     "execution_count": 32,
     "metadata": {},
     "output_type": "execute_result"
    }
   ],
   "source": [
    "# Ahora vemos las fechas de cuando se publicaron los tweets con mayor número\n",
    "# de likes\n",
    "\n",
    "likes_datos = datos[datos['user_favourites'] > 1100000]\n",
    "likes_datos.sort_values(by = ['user_favourites'], ascending = False)\n",
    "likes_datos[['user_name','user_favourites', 'date']].head()\n"
   ]
  },
  {
   "cell_type": "code",
   "execution_count": 34,
   "id": "389019f1",
   "metadata": {},
   "outputs": [
    {
     "name": "stdout",
     "output_type": "stream",
     "text": [
      "False:   65082\n",
      "True:    9354\n"
     ]
    }
   ],
   "source": [
    "# Vemos cuantos están verificados y cuantos no\n",
    "\n",
    "cnt4 = Counter(datos.user_verified)\n",
    "\n",
    "for u, count in cnt4.most_common(5):\n",
    "    print ('%s: %7d' % (u, count))"
   ]
  },
  {
   "cell_type": "code",
   "execution_count": 36,
   "id": "38943f40",
   "metadata": {},
   "outputs": [
    {
     "data": {
      "image/png": "[encoded data removed]",
      "text/plain": [
       "<Figure size 432x288 with 1 Axes>"
      ]
     },
     "metadata": {
      "needs_background": "light"
     },
     "output_type": "display_data"
    }
   ],
   "source": [
    "tot4 = []\n",
    "t = 9354\n",
    "f = 65082\n",
    "\n",
    "for val in range(t + 1):\n",
    "    tot4.append(\"Están Verificados\")\n",
    "for val in range(f + 1):\n",
    "    tot4.append(\"No están Verificados\")\n",
    "    \n",
    "plt.hist(tot4, histtype ='bar', color = 'yellow')\n",
    "plt.title('Usuarios Verificados vs No Verificados \\n', fontweight =\"bold\")\n",
    "plt.ylabel('Total de Usuarios')\n",
    "plt.show()"
   ]
  },
  {
   "cell_type": "code",
   "execution_count": 38,
   "id": "05751329",
   "metadata": {},
   "outputs": [
    {
     "data": {
      "text/html": [
       "<div>\n",
       "<style scoped>\n",
       "    .dataframe tbody tr th:only-of-type {\n",
       "        vertical-align: middle;\n",
       "    }\n",
       "\n",
       "    .dataframe tbody tr th {\n",
       "        vertical-align: top;\n",
       "    }\n",
       "\n",
       "    .dataframe thead th {\n",
       "        text-align: right;\n",
       "    }\n",
       "</style>\n",
       "<table border=\"1\" class=\"dataframe\">\n",
       "  <thead>\n",
       "    <tr style=\"text-align: right;\">\n",
       "      <th></th>\n",
       "      <th>user_name</th>\n",
       "      <th>text</th>\n",
       "    </tr>\n",
       "  </thead>\n",
       "  <tbody>\n",
       "    <tr>\n",
       "      <th>1</th>\n",
       "      <td>Tom Basile 🇺🇸</td>\n",
       "      <td>Hey @Yankees @YankeesPR and @MLB - wouldn't it...</td>\n",
       "    </tr>\n",
       "    <tr>\n",
       "      <th>21</th>\n",
       "      <td>APO Group English</td>\n",
       "      <td>Coronavirus - South Africa: COVID-19 update fo...</td>\n",
       "    </tr>\n",
       "    <tr>\n",
       "      <th>25</th>\n",
       "      <td>Blood Donors India</td>\n",
       "      <td>#Kolar\\nNeed #Blood Type :  B-positive\\nAt : J...</td>\n",
       "    </tr>\n",
       "    <tr>\n",
       "      <th>39</th>\n",
       "      <td>ASHP</td>\n",
       "      <td>We released two new #COVID19 podcast episodes ...</td>\n",
       "    </tr>\n",
       "    <tr>\n",
       "      <th>43</th>\n",
       "      <td>TOI Delhi</td>\n",
       "      <td>#Delhi reports 1,142 #COVID19 positive cases a...</td>\n",
       "    </tr>\n",
       "  </tbody>\n",
       "</table>\n",
       "</div>"
      ],
      "text/plain": [
       "             user_name                                               text\n",
       "1        Tom Basile 🇺🇸  Hey @Yankees @YankeesPR and @MLB - wouldn't it...\n",
       "21   APO Group English  Coronavirus - South Africa: COVID-19 update fo...\n",
       "25  Blood Donors India  #Kolar\\nNeed #Blood Type :  B-positive\\nAt : J...\n",
       "39                ASHP  We released two new #COVID19 podcast episodes ...\n",
       "43           TOI Delhi  #Delhi reports 1,142 #COVID19 positive cases a..."
      ]
     },
     "execution_count": 38,
     "metadata": {},
     "output_type": "execute_result"
    }
   ],
   "source": [
    "# Verified\n",
    "\n",
    "verificados_datos = datos[datos['user_verified'] == True]\n",
    "verificados_datos[['user_name','text']].head()"
   ]
  },
  {
   "cell_type": "code",
   "execution_count": 39,
   "id": "a08bd305",
   "metadata": {},
   "outputs": [
    {
     "data": {
      "text/html": [
       "<div>\n",
       "<style scoped>\n",
       "    .dataframe tbody tr th:only-of-type {\n",
       "        vertical-align: middle;\n",
       "    }\n",
       "\n",
       "    .dataframe tbody tr th {\n",
       "        vertical-align: top;\n",
       "    }\n",
       "\n",
       "    .dataframe thead th {\n",
       "        text-align: right;\n",
       "    }\n",
       "</style>\n",
       "<table border=\"1\" class=\"dataframe\">\n",
       "  <thead>\n",
       "    <tr style=\"text-align: right;\">\n",
       "      <th></th>\n",
       "      <th>user_name</th>\n",
       "      <th>user_favourites</th>\n",
       "      <th>text</th>\n",
       "    </tr>\n",
       "  </thead>\n",
       "  <tbody>\n",
       "    <tr>\n",
       "      <th>2514</th>\n",
       "      <td>Joyce Peterson</td>\n",
       "      <td>204655</td>\n",
       "      <td>FREE #COVID19 Drive-Thru Testing in DeSoto Cou...</td>\n",
       "    </tr>\n",
       "    <tr>\n",
       "      <th>3128</th>\n",
       "      <td>Holly Figueroa O'Reilly</td>\n",
       "      <td>200821</td>\n",
       "      <td>So, Sinclair is going to run that Qanon conspi...</td>\n",
       "    </tr>\n",
       "    <tr>\n",
       "      <th>12681</th>\n",
       "      <td>Joyce Peterson</td>\n",
       "      <td>204660</td>\n",
       "      <td>Walk with me. Dig the dance line on Beale Stre...</td>\n",
       "    </tr>\n",
       "    <tr>\n",
       "      <th>15997</th>\n",
       "      <td>Charles Gaba</td>\n",
       "      <td>567227</td>\n",
       "      <td>Welp. By Sunday night, not only will New York ...</td>\n",
       "    </tr>\n",
       "    <tr>\n",
       "      <th>16538</th>\n",
       "      <td>Carlos Gil 📙</td>\n",
       "      <td>350900</td>\n",
       "      <td>I'm grateful for colleagues who recognize that...</td>\n",
       "    </tr>\n",
       "  </tbody>\n",
       "</table>\n",
       "</div>"
      ],
      "text/plain": [
       "                     user_name  user_favourites  \\\n",
       "2514            Joyce Peterson           204655   \n",
       "3128   Holly Figueroa O'Reilly           200821   \n",
       "12681           Joyce Peterson           204660   \n",
       "15997             Charles Gaba           567227   \n",
       "16538             Carlos Gil 📙           350900   \n",
       "\n",
       "                                                    text  \n",
       "2514   FREE #COVID19 Drive-Thru Testing in DeSoto Cou...  \n",
       "3128   So, Sinclair is going to run that Qanon conspi...  \n",
       "12681  Walk with me. Dig the dance line on Beale Stre...  \n",
       "15997  Welp. By Sunday night, not only will New York ...  \n",
       "16538  I'm grateful for colleagues who recognize that...  "
      ]
     },
     "execution_count": 39,
     "metadata": {},
     "output_type": "execute_result"
    }
   ],
   "source": [
    "verificados_likes_datos = verificados_datos[verificados_datos['user_favourites'] > 200000]\n",
    "verificados_likes_datos.sort_values(by = ['user_favourites'], ascending = False)\n",
    "verificados_likes_datos[['user_name','user_favourites', 'text']].head()"
   ]
  },
  {
   "cell_type": "code",
   "execution_count": 40,
   "id": "27ccd22d",
   "metadata": {},
   "outputs": [
    {
     "name": "stdout",
     "output_type": "stream",
     "text": [
      "Charles Gaba:       9\n",
      "Joyce Peterson:       4\n",
      "CATHERINE Constantinides:       3\n",
      "Kirk Borne:       3\n",
      "David Weissman:       2\n"
     ]
    }
   ],
   "source": [
    "cnt5 = Counter(verificados_likes_datos.user_name)\n",
    "tot5 = []\n",
    "\n",
    "for u, count in cnt5.most_common(5):\n",
    "    print ('%s: %7d' % (u, count))\n",
    "    for val in range(count+1):\n",
    "        tot5.append(u)"
   ]
  },
  {
   "cell_type": "code",
   "execution_count": 41,
   "id": "ad580926",
   "metadata": {},
   "outputs": [
    {
     "data": {
      "image/png": "[encoded data removed]",
      "text/plain": [
       "<Figure size 432x288 with 1 Axes>"
      ]
     },
     "metadata": {
      "needs_background": "light"
     },
     "output_type": "display_data"
    }
   ],
   "source": [
    "plt.hist(tot5, histtype ='bar', color = 'purple')\n",
    "plt.title('Total de Tweets con más <3 de usuarios verificados', fontweight =\"bold\")\n",
    "plt.ylabel('Total de Tweets')\n",
    "plt.show()"
   ]
  },
  {
   "cell_type": "code",
   "execution_count": 42,
   "id": "7d7cd4ac",
   "metadata": {},
   "outputs": [
    {
     "data": {
      "text/html": [
       "<div>\n",
       "<style scoped>\n",
       "    .dataframe tbody tr th:only-of-type {\n",
       "        vertical-align: middle;\n",
       "    }\n",
       "\n",
       "    .dataframe tbody tr th {\n",
       "        vertical-align: top;\n",
       "    }\n",
       "\n",
       "    .dataframe thead th {\n",
       "        text-align: right;\n",
       "    }\n",
       "</style>\n",
       "<table border=\"1\" class=\"dataframe\">\n",
       "  <thead>\n",
       "    <tr style=\"text-align: right;\">\n",
       "      <th></th>\n",
       "      <th>user_name</th>\n",
       "      <th>text</th>\n",
       "    </tr>\n",
       "  </thead>\n",
       "  <tbody>\n",
       "    <tr>\n",
       "      <th>0</th>\n",
       "      <td>ᏉᎥ☻լꂅϮ</td>\n",
       "      <td>If I smelled the scent of hand sanitizers toda...</td>\n",
       "    </tr>\n",
       "    <tr>\n",
       "      <th>2</th>\n",
       "      <td>Time4fisticuffs</td>\n",
       "      <td>@diane3443 @wdunlap @realDonaldTrump Trump nev...</td>\n",
       "    </tr>\n",
       "    <tr>\n",
       "      <th>3</th>\n",
       "      <td>ethel mertz</td>\n",
       "      <td>@brookbanktv The one gift #COVID19 has give me...</td>\n",
       "    </tr>\n",
       "    <tr>\n",
       "      <th>4</th>\n",
       "      <td>DIPR-J&amp;K</td>\n",
       "      <td>25 July : Media Bulletin on Novel #CoronaVirus...</td>\n",
       "    </tr>\n",
       "    <tr>\n",
       "      <th>5</th>\n",
       "      <td>🎹 Franz Schubert</td>\n",
       "      <td>#coronavirus #covid19 deaths continue to rise....</td>\n",
       "    </tr>\n",
       "  </tbody>\n",
       "</table>\n",
       "</div>"
      ],
      "text/plain": [
       "          user_name                                               text\n",
       "0            ᏉᎥ☻լꂅϮ  If I smelled the scent of hand sanitizers toda...\n",
       "2   Time4fisticuffs  @diane3443 @wdunlap @realDonaldTrump Trump nev...\n",
       "3       ethel mertz  @brookbanktv The one gift #COVID19 has give me...\n",
       "4          DIPR-J&K  25 July : Media Bulletin on Novel #CoronaVirus...\n",
       "5  🎹 Franz Schubert  #coronavirus #covid19 deaths continue to rise...."
      ]
     },
     "execution_count": 42,
     "metadata": {},
     "output_type": "execute_result"
    }
   ],
   "source": [
    "# Lo mismo pero con no verificados\n",
    "\n",
    "noVerificados_datos = datos[datos['user_verified'] == False]\n",
    "noVerificados_datos[['user_name','text']].head()"
   ]
  },
  {
   "cell_type": "code",
   "execution_count": 43,
   "id": "652f138d",
   "metadata": {},
   "outputs": [
    {
     "data": {
      "text/html": [
       "<div>\n",
       "<style scoped>\n",
       "    .dataframe tbody tr th:only-of-type {\n",
       "        vertical-align: middle;\n",
       "    }\n",
       "\n",
       "    .dataframe tbody tr th {\n",
       "        vertical-align: top;\n",
       "    }\n",
       "\n",
       "    .dataframe thead th {\n",
       "        text-align: right;\n",
       "    }\n",
       "</style>\n",
       "<table border=\"1\" class=\"dataframe\">\n",
       "  <thead>\n",
       "    <tr style=\"text-align: right;\">\n",
       "      <th></th>\n",
       "      <th>user_name</th>\n",
       "      <th>user_favourites</th>\n",
       "      <th>text</th>\n",
       "    </tr>\n",
       "  </thead>\n",
       "  <tbody>\n",
       "    <tr>\n",
       "      <th>7614</th>\n",
       "      <td>@Splashing Lights Photos</td>\n",
       "      <td>656341</td>\n",
       "      <td>@Angel_nookies_ Me neither. Wouldn't do it pos...</td>\n",
       "    </tr>\n",
       "    <tr>\n",
       "      <th>11946</th>\n",
       "      <td>@Splashing Lights Photos</td>\n",
       "      <td>656341</td>\n",
       "      <td>Sporting masks should be a nationwide mandate....</td>\n",
       "    </tr>\n",
       "    <tr>\n",
       "      <th>12668</th>\n",
       "      <td>James Jayi Wang</td>\n",
       "      <td>639931</td>\n",
       "      <td>86/ #COVID19 #coronavirus\\nFRI JULY 24, 2020\\n...</td>\n",
       "    </tr>\n",
       "    <tr>\n",
       "      <th>13099</th>\n",
       "      <td>Brian E. Logan</td>\n",
       "      <td>605134</td>\n",
       "      <td>@mick_inLa @MomofTwonodigit @NYPDnews @UPS @Le...</td>\n",
       "    </tr>\n",
       "    <tr>\n",
       "      <th>14504</th>\n",
       "      <td>Chelsea Anderson.♥️</td>\n",
       "      <td>2047197</td>\n",
       "      <td>So Trump wants everyone else's child to get #C...</td>\n",
       "    </tr>\n",
       "  </tbody>\n",
       "</table>\n",
       "</div>"
      ],
      "text/plain": [
       "                      user_name  user_favourites  \\\n",
       "7614   @Splashing Lights Photos           656341   \n",
       "11946  @Splashing Lights Photos           656341   \n",
       "12668           James Jayi Wang           639931   \n",
       "13099            Brian E. Logan           605134   \n",
       "14504       Chelsea Anderson.♥️          2047197   \n",
       "\n",
       "                                                    text  \n",
       "7614   @Angel_nookies_ Me neither. Wouldn't do it pos...  \n",
       "11946  Sporting masks should be a nationwide mandate....  \n",
       "12668  86/ #COVID19 #coronavirus\\nFRI JULY 24, 2020\\n...  \n",
       "13099  @mick_inLa @MomofTwonodigit @NYPDnews @UPS @Le...  \n",
       "14504  So Trump wants everyone else's child to get #C...  "
      ]
     },
     "execution_count": 43,
     "metadata": {},
     "output_type": "execute_result"
    }
   ],
   "source": [
    "\n",
    "noVerificados_likes_datos = noVerificados_datos[noVerificados_datos['user_favourites'] > 600000]\n",
    "noVerificados_likes_datos.sort_values(by = ['user_favourites'], ascending = False)\n",
    "noVerificados_likes_datos[['user_name','user_favourites', 'text']].head()"
   ]
  },
  {
   "cell_type": "code",
   "execution_count": 44,
   "id": "e74fcc09",
   "metadata": {},
   "outputs": [
    {
     "name": "stdout",
     "output_type": "stream",
     "text": [
      "paolo ignazio marong:      13\n",
      "VonVictor V. Rosenchild:       5\n",
      "Brian E. Logan:       3\n",
      "David Lance #FBPE #WATON:       3\n",
      "Helen _ 5calls.org:       3\n"
     ]
    }
   ],
   "source": [
    "cnt6 = Counter(noVerificados_likes_datos.user_name)\n",
    "tot6 = []\n",
    "\n",
    "for u, count in cnt6.most_common(5):\n",
    "    print ('%s: %7d' % (u, count))\n",
    "    for val in range(count+1):\n",
    "        tot6.append(u)"
   ]
  },
  {
   "cell_type": "code",
   "execution_count": 45,
   "id": "afd23b8e",
   "metadata": {},
   "outputs": [
    {
     "data": {
      "image/png": "[encoded data removed]",
      "text/plain": [
       "<Figure size 432x288 with 1 Axes>"
      ]
     },
     "metadata": {
      "needs_background": "light"
     },
     "output_type": "display_data"
    }
   ],
   "source": [
    "plt.hist(tot6, histtype ='bar', color = 'pink')\n",
    "plt.title('Total de Tweets con más <3 de usuarios no verificados', fontweight =\"bold\")\n",
    "plt.ylabel('Total de tweets')\n",
    "plt.show()"
   ]
  },
  {
   "cell_type": "code",
   "execution_count": 47,
   "id": "a4fcc587",
   "metadata": {},
   "outputs": [
    {
     "data": {
      "image/png": "[encoded data removed]",
      "text/plain": [
       "<Figure size 720x504 with 1 Axes>"
      ]
     },
     "metadata": {
      "needs_background": "light"
     },
     "output_type": "display_data"
    }
   ],
   "source": [
    "tot_followers = datos['user_followers']\n",
    "tot_likes = datos['user_favourites']\n",
    "vals = [tot_followers, tot_likes]\n",
    "\n",
    "figura = plt.figure(figsize = (10, 7))\n",
    "plt.boxplot(vals)\n",
    "plt.title('Box and Whiskers de Followers and Likes', fontweight =\"bold\")\n",
    "plt.xlabel('Seguidores                                                                     Likes')\n",
    "plt.show() "
   ]
  },
  {
   "cell_type": "code",
   "execution_count": 53,
   "id": "7887f773",
   "metadata": {},
   "outputs": [
    {
     "data": {
      "text/plain": [
       "<AxesSubplot:>"
      ]
     },
     "execution_count": 53,
     "metadata": {},
     "output_type": "execute_result"
    },
    {
     "data": {
      "image/png": "[encoded data removed]",
      "text/plain": [
       "<Figure size 432x288 with 2 Axes>"
      ]
     },
     "metadata": {
      "needs_background": "light"
     },
     "output_type": "display_data"
    }
   ],
   "source": [
    "correlacionPearson = datos.corr(method ='pearson')\n",
    "sns.heatmap(correlacionPearson, xticklabels = correlacionPearson.columns,\n",
    "            yticklabels = correlacionPearson.columns, cmap = 'autumn', annot=True)"
   ]
  },
  {
   "cell_type": "code",
   "execution_count": 64,
   "id": "32670446",
   "metadata": {},
   "outputs": [
    {
     "data": {
      "text/plain": [
       "source\n",
       "Twitter Web App               22974\n",
       "Twitter for Android           16758\n",
       "Twitter for iPhone            15824\n",
       "TweetDeck                      3453\n",
       "Hootsuite Inc.                 2846\n",
       "                              ...  \n",
       "Dynamics 365 for Marketing        1\n",
       "Konnect Social                    1\n",
       "Downtime Monkey                   1\n",
       "DopeyUncle2                       1\n",
       "Fenix for Android                 1\n",
       "Length: 450, dtype: int64"
      ]
     },
     "execution_count": 64,
     "metadata": {},
     "output_type": "execute_result"
    }
   ],
   "source": [
    "# Tabla dinámica con índice source para determinar el tamaño de cada una\n",
    "fuentes = datos.pivot_table(index = ['source'], aggfunc = 'size')\n",
    "fuentes.sort_values(ascending = False)"
   ]
  },
  {
   "cell_type": "code",
   "execution_count": 66,
   "id": "035b7846",
   "metadata": {},
   "outputs": [
    {
     "data": {
      "image/png": "[encoded data removed]",
      "text/plain": [
       "<Figure size 432x288 with 1 Axes>"
      ]
     },
     "metadata": {
      "needs_background": "light"
     },
     "output_type": "display_data"
    }
   ],
   "source": [
    "# Graficar fuentes más usadas por usuarios\n",
    "nombres = [\"Web App\", \"Android\", \"iPhone\",\"TweetDeck\",\"Hootsuite Inc.\"]\n",
    "\n",
    "tot_Fuentes = []\n",
    "tot_Fuentes.append(fuentes[\"Twitter Web App\"])\n",
    "tot_Fuentes.append(fuentes[\"Twitter for Android\"])\n",
    "tot_Fuentes.append(fuentes[\"Twitter for iPhone\"])\n",
    "tot_Fuentes.append(fuentes[\"TweetDeck\"])\n",
    "tot_Fuentes.append(fuentes[\"Hootsuite Inc.\"])\n",
    "\n",
    "plt.bar(nombres, tot_Fuentes, color = 'slateblue')\n",
    "plt.title(\"Fuentes de los tweets\")\n",
    "plt.xlabel(\"Fuentes\")\n",
    "plt.ylabel(\"Total de Usuarios\")\n",
    "plt.show()"
   ]
  },
  {
   "cell_type": "code",
   "execution_count": 67,
   "id": "2be3e617",
   "metadata": {},
   "outputs": [
    {
     "data": {
      "text/plain": [
       "India               1496\n",
       "United States       1172\n",
       "New Delhi, India     669\n",
       "Washington, DC       589\n",
       "Mumbai, India        554\n",
       "Name: user_location, dtype: int64"
      ]
     },
     "execution_count": 67,
     "metadata": {},
     "output_type": "execute_result"
    }
   ],
   "source": [
    "# Ubicar las 5 ubicaciones más repetidas\n",
    "ubicaciones_datos = pd.DataFrame(datos)\n",
    "ubicaciones = ubicaciones_datos['user_location'].value_counts()\n",
    "ubicaciones[0:5]"
   ]
  },
  {
   "cell_type": "code",
   "execution_count": 62,
   "id": "7876f086",
   "metadata": {},
   "outputs": [
    {
     "data": {
      "text/plain": [
       "<AxesSubplot:title={'center':'Las 5 ubicaciones con mayor número de tweets'}, xlabel='  ', ylabel='user_location'>"
      ]
     },
     "execution_count": 62,
     "metadata": {},
     "output_type": "execute_result"
    },
    {
     "data": {
      "image/png": "[encoded data removed]",
      "text/plain": [
       "<Figure size 432x288 with 1 Axes>"
      ]
     },
     "metadata": {},
     "output_type": "display_data"
    }
   ],
   "source": [
    "# Graficar las 5 Ubicaciones más repetidas\n",
    "figura, axe1 = plt.subplots()\n",
    "plt.xlabel('  ')\n",
    "ubicaciones[0:5].plot(kind = 'pie', title = \"Las 5 ubicaciones con mayor número de tweets\")"
   ]
  },
  {
   "cell_type": "code",
   "execution_count": null,
   "id": "71de7076",
   "metadata": {},
   "outputs": [],
   "source": []
  }
 ],
 "metadata": {
  "kernelspec": {
   "display_name": "Python 3 (ipykernel)",
   "language": "python",
   "name": "python3"
  },
  "language_info": {
   "codemirror_mode": {
    "name": "ipython",
    "version": 3
   },
   "file_extension": ".py",
   "mimetype": "text/x-python",
   "name": "python",
   "nbconvert_exporter": "python",
   "pygments_lexer": "ipython3",
   "version": "3.9.12"
  }
 },
 "nbformat": 4,
 "nbformat_minor": 5
}
