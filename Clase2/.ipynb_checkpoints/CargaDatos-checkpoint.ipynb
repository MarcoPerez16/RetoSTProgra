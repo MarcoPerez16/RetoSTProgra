{
 "cells": [
  {
   "cell_type": "code",
   "execution_count": null,
   "id": "7259137e",
   "metadata": {},
   "outputs": [],
   "source": []
  },
  {
   "cell_type": "code",
   "execution_count": 2,
   "id": "a2f02e84",
   "metadata": {},
   "outputs": [
    {
     "name": "stdout",
     "output_type": "stream",
     "text": [
      "Tamaño de la matriz es:  18250\n",
      "Valor de la variable 2 del obj 15:  2015-09-27\n",
      "Minimo de la variable 3:  0.44\n",
      "Maximo de la variable 3:  3.25\n"
     ]
    }
   ],
   "source": [
    "import csv\n",
    "\n",
    "archivo = \"avocado.csv\"\n",
    "\n",
    "def leerArchivo(txt):\n",
    "    filas = []\n",
    "    with open(txt, 'r') as file:\n",
    "        csvr = csv.reader(file)\n",
    "        for row in csvr:\n",
    "            filas.append(row)\n",
    "    return filas\n",
    "\n",
    "def min(m):\n",
    "    min = m[1][2]\n",
    "    for i in range(2, len(m)):\n",
    "        if m[i][2] < min :\n",
    "            min = m[i][2]\n",
    "    return min\n",
    "\n",
    "def max(m):\n",
    "    max = m[1][2]\n",
    "    for i in range(2, len(m)):\n",
    "        if m[i][2] > max :\n",
    "            max = m[i][2]\n",
    "    return max\n",
    "\n",
    "matriz = leerArchivo(archivo)\n",
    "print(\"Tamaño de la matriz es: \", len(matriz))\n",
    "print(\"Valor de la variable 2 del obj 15: \", matriz[14][1])\n",
    "print(\"Minimo de la variable 3: \", min(matriz))\n",
    "print(\"Maximo de la variable 3: \", max(matriz))"
   ]
  },
  {
   "cell_type": "code",
   "execution_count": null,
   "id": "c74d0321",
   "metadata": {},
   "outputs": [],
   "source": []
  },
  {
   "cell_type": "code",
   "execution_count": 1,
   "id": "738c804d",
   "metadata": {},
   "outputs": [
    {
     "ename": "AttributeError",
     "evalue": "partially initialized module 'pandas' has no attribute 'read_csv' (most likely due to a circular import)",
     "output_type": "error",
     "traceback": [
      "\u001b[1;31m---------------------------------------------------------------------------\u001b[0m",
      "\u001b[1;31mAttributeError\u001b[0m                            Traceback (most recent call last)",
      "Input \u001b[1;32mIn [1]\u001b[0m, in \u001b[0;36m<cell line: 1>\u001b[1;34m()\u001b[0m\n\u001b[1;32m----> 1\u001b[0m \u001b[38;5;28;01mimport\u001b[39;00m \u001b[38;5;21;01mpandas\u001b[39;00m \u001b[38;5;28;01mas\u001b[39;00m \u001b[38;5;21;01mpd\u001b[39;00m\n\u001b[0;32m      3\u001b[0m datos \u001b[38;5;241m=\u001b[39m pd\u001b[38;5;241m.\u001b[39mread_csv(\u001b[38;5;124m'\u001b[39m\u001b[38;5;124mavocado.csv\u001b[39m\u001b[38;5;124m'\u001b[39m)\n\u001b[0;32m      5\u001b[0m \u001b[38;5;28mprint\u001b[39m(datos\u001b[38;5;241m.\u001b[39mto_string())\n",
      "File \u001b[1;32m~\\OneDrive\\Documentos\\4S Tec\\SemanasTec\\Clase2\\pandas.py:3\u001b[0m, in \u001b[0;36m<module>\u001b[1;34m\u001b[0m\n\u001b[0;32m      1\u001b[0m \u001b[38;5;28;01mimport\u001b[39;00m \u001b[38;5;21;01mpandas\u001b[39;00m \u001b[38;5;28;01mas\u001b[39;00m \u001b[38;5;21;01mpd\u001b[39;00m\n\u001b[1;32m----> 3\u001b[0m datos \u001b[38;5;241m=\u001b[39m \u001b[43mpd\u001b[49m\u001b[38;5;241;43m.\u001b[39;49m\u001b[43mread_csv\u001b[49m(\u001b[38;5;124m'\u001b[39m\u001b[38;5;124mavocado.csv\u001b[39m\u001b[38;5;124m'\u001b[39m)\n\u001b[0;32m      5\u001b[0m \u001b[38;5;28mprint\u001b[39m(datos\u001b[38;5;241m.\u001b[39mto_string())\n",
      "\u001b[1;31mAttributeError\u001b[0m: partially initialized module 'pandas' has no attribute 'read_csv' (most likely due to a circular import)"
     ]
    }
   ],
   "source": [
    "import pandas as pd\n",
    "\n",
    "datos = pd.read_csv('avocado.csv')\n",
    "\n",
    "print(datos.to_string()) "
   ]
  },
  {
   "cell_type": "code",
   "execution_count": null,
   "id": "fbe996cd",
   "metadata": {},
   "outputs": [],
   "source": []
  }
 ],
 "metadata": {
  "kernelspec": {
   "display_name": "Python 3 (ipykernel)",
   "language": "python",
   "name": "python3"
  },
  "language_info": {
   "codemirror_mode": {
    "name": "ipython",
    "version": 3
   },
   "file_extension": ".py",
   "mimetype": "text/x-python",
   "name": "python",
   "nbconvert_exporter": "python",
   "pygments_lexer": "ipython3",
   "version": "3.9.12"
  }
 },
 "nbformat": 4,
 "nbformat_minor": 5
}
