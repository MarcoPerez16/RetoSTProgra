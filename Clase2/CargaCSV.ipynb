{
 "cells": [
  {
   "cell_type": "markdown",
   "id": "eef776b9",
   "metadata": {},
   "source": [
    "# Carga de datos con Python\n",
    "\n",
    "Abiel Moisés Borja García <br/>\n",
    "Aranza García Narvaéz <br/>\n",
    "María Clarita Osorio Vergara <br/>\n",
    "Gael Eduardo Pérez Gómez <br/>\n",
    "Marco Uriel Pérez Gutiérrez <br/>"
   ]
  },
  {
   "cell_type": "code",
   "execution_count": 1,
   "id": "a2f02e84",
   "metadata": {},
   "outputs": [
    {
     "name": "stdout",
     "output_type": "stream",
     "text": [
      "Tamaño de la matriz es:  18250\n",
      "Valor de la variable 2 del obj 15:  2015-09-27\n",
      "Minimo de la variable 3:  0.44\n",
      "Maximo de la variable 3:  3.25\n"
     ]
    }
   ],
   "source": [
    "import csv\n",
    "\n",
    "archivo = \"avocado.csv\"\n",
    "\n",
    "def leerArchivo(txt):\n",
    "    filas = []\n",
    "    with open(txt, 'r') as file:\n",
    "        csvr = csv.reader(file)\n",
    "        for row in csvr:\n",
    "            filas.append(row)\n",
    "    return filas\n",
    "\n",
    "def min(m):\n",
    "    min = m[1][2]\n",
    "    for i in range(2, len(m)):\n",
    "        if m[i][2] < min :\n",
    "            min = m[i][2]\n",
    "    return min\n",
    "\n",
    "def max(m):\n",
    "    max = m[1][2]\n",
    "    for i in range(2, len(m)):\n",
    "        if m[i][2] > max :\n",
    "            max = m[i][2]\n",
    "    return max\n",
    "\n",
    "matriz = leerArchivo(archivo)\n",
    "print(\"Tamaño de la matriz es: \", len(matriz))\n",
    "print(\"Valor de la variable 2 del obj 15: \", matriz[14][1])\n",
    "print(\"Minimo de la variable 3: \", min(matriz))\n",
    "print(\"Maximo de la variable 3: \", max(matriz))"
   ]
  },
  {
   "cell_type": "code",
   "execution_count": null,
   "id": "0dfda2c5",
   "metadata": {},
   "outputs": [],
   "source": []
  }
 ],
 "metadata": {
  "kernelspec": {
   "display_name": "Python 3 (ipykernel)",
   "language": "python",
   "name": "python3"
  },
  "language_info": {
   "codemirror_mode": {
    "name": "ipython",
    "version": 3
   },
   "file_extension": ".py",
   "mimetype": "text/x-python",
   "name": "python",
   "nbconvert_exporter": "python",
   "pygments_lexer": "ipython3",
   "version": "3.9.12"
  }
 },
 "nbformat": 4,
 "nbformat_minor": 5
}
