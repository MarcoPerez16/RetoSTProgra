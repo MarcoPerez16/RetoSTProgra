{
 "cells": [
  {
   "cell_type": "markdown",
   "id": "94d62efb",
   "metadata": {},
   "source": [
    "#  Actividad Evaluable: Repositorio\n",
    "Ejercicios con Python:\n",
    "\n",
    "1.\n",
    "Escribir una función de Python que encuentre los números primos en los primeros N números naturales.\n",
    "N es el argumento de la función\n",
    "Llamar la función desde el código principal\n",
    "\n",
    "2.\n",
    "Escribir una función de Pyton que encuentre el producto cruz en vectores de 3 componentes.\n",
    "La función recibe dos listas (vectores)\n",
    "La función regresa un tercer vector (lista) con el resultado\n",
    "Llamar a la función desde el código principal\n",
    "\n",
    "3.\n",
    "Re-escribir el problema 2, pero ahora los vectores son leídos desde un archivo de texto."
   ]
  },
  {
   "cell_type": "code",
   "execution_count": null,
   "id": "7853ca5c",
   "metadata": {},
   "outputs": [],
   "source": [
    "def esPrimo(num):\n",
    "    for n in range(2, num):\n",
    "        if num % n == 0:\n",
    "            return False\n",
    "    return True\n",
    "\n",
    "def losPrimos(num):\n",
    "    c = 0\n",
    "    i = 0\n",
    "    while c <= num:\n",
    "        i += 1\n",
    "        c += 1\n",
    "        if esPrimo(i):\n",
    "            print(i, \" es primo.\")"
   ]
  },
  {
   "cell_type": "code",
   "execution_count": 4,
   "id": "24c4b1c0",
   "metadata": {},
   "outputs": [
    {
     "name": "stdout",
     "output_type": "stream",
     "text": [
      "[-12, -10, 0]\n"
     ]
    }
   ],
   "source": [
    "def cruz(v1, v2):\n",
    "    lst = []\n",
    "    lst.append(v1[1] * v2[2] - v1[2] * v2[1])\n",
    "    lst.append(v1[0] * v2[2] - v1[2] * v2[0])\n",
    "    lst.append(v1[0] * v2[1] - v1[0] * v2[1])\n",
    "    return lst\n",
    "\n",
    "a = [1, 2, 4]\n",
    "b = [3, 4, 2]\n",
    "print(cruz(a, b))"
   ]
  },
  {
   "cell_type": "code",
   "execution_count": 1,
   "id": "4ef51a79",
   "metadata": {},
   "outputs": [
    {
     "name": "stdout",
     "output_type": "stream",
     "text": [
      "[['2', ' 4', ' 2'], ['4', ' 3', ' 6'], ['6', ' 3', ' 8']]\n"
     ]
    },
    {
     "ename": "NameError",
     "evalue": "name 'cross' is not defined",
     "output_type": "error",
     "traceback": [
      "\u001b[1;31m---------------------------------------------------------------------------\u001b[0m",
      "\u001b[1;31mNameError\u001b[0m                                 Traceback (most recent call last)",
      "Input \u001b[1;32mIn [1]\u001b[0m, in \u001b[0;36m<cell line: 12>\u001b[1;34m()\u001b[0m\n\u001b[0;32m      9\u001b[0m x \u001b[38;5;241m=\u001b[39m [\u001b[38;5;28mfloat\u001b[39m(filas[\u001b[38;5;241m0\u001b[39m][\u001b[38;5;241m0\u001b[39m]), \u001b[38;5;28mfloat\u001b[39m(filas[\u001b[38;5;241m0\u001b[39m][\u001b[38;5;241m1\u001b[39m]), \u001b[38;5;28mfloat\u001b[39m(filas[\u001b[38;5;241m0\u001b[39m][\u001b[38;5;241m2\u001b[39m])]\n\u001b[0;32m     10\u001b[0m y \u001b[38;5;241m=\u001b[39m [\u001b[38;5;28mfloat\u001b[39m(filas[\u001b[38;5;241m1\u001b[39m][\u001b[38;5;241m0\u001b[39m]), \u001b[38;5;28mfloat\u001b[39m(filas[\u001b[38;5;241m1\u001b[39m][\u001b[38;5;241m1\u001b[39m]), \u001b[38;5;28mfloat\u001b[39m(filas[\u001b[38;5;241m1\u001b[39m][\u001b[38;5;241m2\u001b[39m])]\n\u001b[1;32m---> 12\u001b[0m cr \u001b[38;5;241m=\u001b[39m \u001b[43mcross\u001b[49m(x, y)\n\u001b[0;32m     13\u001b[0m \u001b[38;5;28mprint\u001b[39m(\u001b[38;5;124m\"\u001b[39m\u001b[38;5;124ma= \u001b[39m\u001b[38;5;124m\"\u001b[39m, x)\n\u001b[0;32m     14\u001b[0m \u001b[38;5;28mprint\u001b[39m(\u001b[38;5;124m\"\u001b[39m\u001b[38;5;124mb= \u001b[39m\u001b[38;5;124m\"\u001b[39m, y)\n",
      "\u001b[1;31mNameError\u001b[0m: name 'cross' is not defined"
     ]
    }
   ],
   "source": [
    "import csv\n",
    "filas = []\n",
    "with open(\"vectors.csv\", 'r') as file:\n",
    "    csvr = csv.reader(file)\n",
    "    for row in csvr:\n",
    "        filas.append(row)\n",
    "print(filas)\n",
    "\n",
    "x = [float(filas[0][0]), float(filas[0][1]), float(filas[0][2])]\n",
    "y = [float(filas[1][0]), float(filas[1][1]), float(filas[1][2])]\n",
    "\n",
    "cr = cross(x, y)\n",
    "print(\"a= \", x)\n",
    "print(\"b= \", y)\n",
    "print(\"a x b =\", cr)"
   ]
  },
  {
   "cell_type": "code",
   "execution_count": null,
   "id": "a5ecc2cf",
   "metadata": {},
   "outputs": [],
   "source": []
  }
 ],
 "metadata": {
  "kernelspec": {
   "display_name": "Python 3 (ipykernel)",
   "language": "python",
   "name": "python3"
  },
  "language_info": {
   "codemirror_mode": {
    "name": "ipython",
    "version": 3
   },
   "file_extension": ".py",
   "mimetype": "text/x-python",
   "name": "python",
   "nbconvert_exporter": "python",
   "pygments_lexer": "ipython3",
   "version": "3.9.12"
  }
 },
 "nbformat": 4,
 "nbformat_minor": 5
}
